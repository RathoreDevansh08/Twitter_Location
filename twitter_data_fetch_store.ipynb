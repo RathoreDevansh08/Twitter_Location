{
  "nbformat": 4,
  "nbformat_minor": 0,
  "metadata": {
    "kernelspec": {
      "display_name": "Python 3",
      "language": "python",
      "name": "python3"
    },
    "language_info": {
      "codemirror_mode": {
        "name": "ipython",
        "version": 3
      },
      "file_extension": ".py",
      "mimetype": "text/x-python",
      "name": "python",
      "nbconvert_exporter": "python",
      "pygments_lexer": "ipython3",
      "version": "3.7.4"
    },
    "colab": {
      "name": "twitter_data_fetch_store.ipynb",
      "provenance": [],
      "collapsed_sections": []
    }
  },
  "cells": [
    {
      "cell_type": "code",
      "metadata": {
        "id": "71HyzH0ZzUZJ"
      },
      "source": [
        "#importing the required libraries and authentication\n",
        "import tweepy,json\n",
        "access_token=\"2427460241-yihCbhCrkA6QrS7mhtwkK9FCnoKMvZzPNRFEtYr\"\n",
        "access_token_secret=\"p6dTQRMwy0SxVP49oHLUXeJ1L4T2cDqPM4RNlcEPErJ9X\"\n",
        "consumer_key=\"3nHkUhoqNif1x64w2gN7UxfPD\"\n",
        "consumer_secret=\"SD0qR7yWtUdGDqYxPcUpyNsRcMsX5MJB9z4MxjVKyq6VYwvDp0\"\n",
        "auth= tweepy.OAuthHandler(consumer_key,consumer_secret)\n",
        "auth.set_access_token(access_token,access_token_secret)\n",
        "api = tweepy.API(auth)"
      ],
      "execution_count": 10,
      "outputs": []
    },
    {
      "cell_type": "code",
      "metadata": {
        "id": "0oBDyC0rzUZS"
      },
      "source": [
        "#search keywords for extracting tweets\n",
        "search_terms = ['home-cooked food for corona patients','homemade food for corona patients','food for corona patients','food for covid patients', 'covid food delivery', 'covid free home cooked food delivery','homemade food covid','homemade food corona','home-cooked food covid','home-cooked food corona']\n",
        "data = [] \n",
        "def stream_tweets(search_term):\n",
        "    counter = 0 \n",
        "    for tweet in tweepy.Cursor(api.search, q='\\\"{}\\\" -filter:retweets'.format(search_term), count=100, lang='en', tweet_mode='extended').items():\n",
        "        tweet_details = {}\n",
        "        tweet_details['time'] = str(tweet.user.created_at)\n",
        "        tweet_details['id'] = tweet.user.id\n",
        "        tweet_details['name'] = tweet.user.screen_name\n",
        "        tweet_details['tweet'] = tweet.full_text\n",
        "        tweet_details['retweets'] = tweet.retweet_count\n",
        "        tweet_details['location'] = tweet.user.location\n",
        "        tweet_details['created'] = tweet.created_at.strftime(\"%d-%b-%Y\")\n",
        "        tweet_details['followers'] = tweet.user.followers_count\n",
        "        tweet_details['is_user_verified'] = tweet.user.verified\n",
        "        data.append(tweet_details)\n",
        "        counter += 1\n",
        "        if counter == 1000:\n",
        "            break\n",
        "        else:\n",
        "            pass\n",
        "    with open('data.json', 'w') as f:\n",
        "        json.dump(data, f)\n",
        "    print('done!')"
      ],
      "execution_count": 11,
      "outputs": []
    },
    {
      "cell_type": "code",
      "metadata": {
        "colab": {
          "base_uri": "https://localhost:8080/"
        },
        "id": "aPdTR7uzzUZV",
        "outputId": "03fccf77-b146-4c73-cc37-92bf99e58ae2"
      },
      "source": [
        "if __name__ == \"__main__\":\n",
        "    print('Starting to stream...')\n",
        "    for k in search_terms:\n",
        "        stream_tweets(k)\n",
        "    print('finished!')"
      ],
      "execution_count": 12,
      "outputs": [
        {
          "output_type": "stream",
          "text": [
            "Starting to stream...\n",
            "done!\n",
            "done!\n",
            "done!\n",
            "done!\n",
            "done!\n",
            "done!\n",
            "done!\n",
            "done!\n",
            "done!\n",
            "done!\n",
            "finished!\n"
          ],
          "name": "stdout"
        }
      ]
    },
    {
      "cell_type": "code",
      "metadata": {
        "id": "jc206cQ3zUZY"
      },
      "source": [
        "#converting to csv for simplicity\n",
        "import pandas as pd\n",
        "df = pd.read_json('/content/data.json')\n",
        "\n",
        "df.to_csv('/content/data_tweet.csv',index=None)"
      ],
      "execution_count": 13,
      "outputs": []
    },
    {
      "cell_type": "code",
      "metadata": {
        "colab": {
          "base_uri": "https://localhost:8080/",
          "height": 383
        },
        "id": "8TPovHnr04y7",
        "outputId": "9b475e08-05d3-4600-8f3f-414685055df3"
      },
      "source": [
        "import pandas as pd\n",
        "Data = pd.read_csv('/content/data_tweet.csv',index_col=False)\n",
        "\n",
        "\n",
        "Data1 = Data.where(pd.notnull(Data), None)\n",
        "\n",
        "Data1.head()\n"
      ],
      "execution_count": 14,
      "outputs": [
        {
          "output_type": "execute_result",
          "data": {
            "text/html": [
              "<div>\n",
              "<style scoped>\n",
              "    .dataframe tbody tr th:only-of-type {\n",
              "        vertical-align: middle;\n",
              "    }\n",
              "\n",
              "    .dataframe tbody tr th {\n",
              "        vertical-align: top;\n",
              "    }\n",
              "\n",
              "    .dataframe thead th {\n",
              "        text-align: right;\n",
              "    }\n",
              "</style>\n",
              "<table border=\"1\" class=\"dataframe\">\n",
              "  <thead>\n",
              "    <tr style=\"text-align: right;\">\n",
              "      <th></th>\n",
              "      <th>time</th>\n",
              "      <th>id</th>\n",
              "      <th>name</th>\n",
              "      <th>tweet</th>\n",
              "      <th>retweets</th>\n",
              "      <th>location</th>\n",
              "      <th>created</th>\n",
              "      <th>followers</th>\n",
              "      <th>is_user_verified</th>\n",
              "    </tr>\n",
              "  </thead>\n",
              "  <tbody>\n",
              "    <tr>\n",
              "      <th>0</th>\n",
              "      <td>2018-09-13 05:41:19</td>\n",
              "      <td>1040113174593163264</td>\n",
              "      <td>Iamsainani</td>\n",
              "      <td>Free food for corona patients in vijayawada \\n...</td>\n",
              "      <td>1</td>\n",
              "      <td>Khammam</td>\n",
              "      <td>30-Apr-2021</td>\n",
              "      <td>581</td>\n",
              "      <td>False</td>\n",
              "    </tr>\n",
              "    <tr>\n",
              "      <th>1</th>\n",
              "      <td>2012-09-14 14:31:30</td>\n",
              "      <td>823403515</td>\n",
              "      <td>Robojohn11</td>\n",
              "      <td>Ground Report - TamiNadu Govt Hosp's - Food wh...</td>\n",
              "      <td>1</td>\n",
              "      <td>Chennai, India</td>\n",
              "      <td>28-Apr-2021</td>\n",
              "      <td>234</td>\n",
              "      <td>False</td>\n",
              "    </tr>\n",
              "    <tr>\n",
              "      <th>2</th>\n",
              "      <td>2012-05-20 11:54:52</td>\n",
              "      <td>585611074</td>\n",
              "      <td>krishna23tiwari</td>\n",
              "      <td>The BJP/BJYM begins a doctor's helpline, medic...</td>\n",
              "      <td>0</td>\n",
              "      <td>New Delhi &amp; Mumbai</td>\n",
              "      <td>28-Apr-2021</td>\n",
              "      <td>8</td>\n",
              "      <td>False</td>\n",
              "    </tr>\n",
              "    <tr>\n",
              "      <th>3</th>\n",
              "      <td>2020-04-23 10:10:36</td>\n",
              "      <td>1253264950606221312</td>\n",
              "      <td>dhfm_4005</td>\n",
              "      <td>Food for corona patients for free in Vijayawad...</td>\n",
              "      <td>4</td>\n",
              "      <td>None</td>\n",
              "      <td>28-Apr-2021</td>\n",
              "      <td>241</td>\n",
              "      <td>False</td>\n",
              "    </tr>\n",
              "    <tr>\n",
              "      <th>4</th>\n",
              "      <td>2020-08-15 07:51:49</td>\n",
              "      <td>1294542222344376322</td>\n",
              "      <td>aashi0309</td>\n",
              "      <td>#COVIDEmergency2021 \\nHome made food for Coron...</td>\n",
              "      <td>8</td>\n",
              "      <td>India</td>\n",
              "      <td>27-Apr-2021</td>\n",
              "      <td>552</td>\n",
              "      <td>False</td>\n",
              "    </tr>\n",
              "  </tbody>\n",
              "</table>\n",
              "</div>"
            ],
            "text/plain": [
              "                  time                   id  ... followers is_user_verified\n",
              "0  2018-09-13 05:41:19  1040113174593163264  ...       581            False\n",
              "1  2012-09-14 14:31:30            823403515  ...       234            False\n",
              "2  2012-05-20 11:54:52            585611074  ...         8            False\n",
              "3  2020-04-23 10:10:36  1253264950606221312  ...       241            False\n",
              "4  2020-08-15 07:51:49  1294542222344376322  ...       552            False\n",
              "\n",
              "[5 rows x 9 columns]"
            ]
          },
          "metadata": {
            "tags": []
          },
          "execution_count": 14
        }
      ]
    },
    {
      "cell_type": "code",
      "metadata": {
        "id": "s0mJ1Z9Q1IZJ"
      },
      "source": [
        "#creating connection to mysql and creating db\n",
        "import mysql.connector as msql\n",
        "from mysql.connector import Error\n",
        "try:\n",
        "    conn = msql.connect(host='sql129.main-hosting.eu', user='u291509283_cargill',  \n",
        "                        password='Cargill123')\n",
        "    if conn.is_connected():\n",
        "        cursor = conn.cursor()\n",
        "        cursor.execute(\"CREATE DATABASE u291509283_cargill\")\n",
        "        print(\"irisDB database is created\")\n",
        "except Error as e:\n",
        "    print(\"Error while connecting to MySQL\", e)"
      ],
      "execution_count": null,
      "outputs": []
    },
    {
      "cell_type": "code",
      "metadata": {
        "id": "0xlhLStI1L-D"
      },
      "source": [
        "#updation in database\n",
        "try:\n",
        "    conn = msql.connect(host='sql129.main-hosting.eu', \n",
        "                           database='u291509283_cargill', user='u291509283_cargill', \n",
        "                           password='Cargill123')\n",
        "    if conn.is_connected():\n",
        "        cursor = conn.cursor()\n",
        "        cursor.execute(\"select database();\")\n",
        "        record = cursor.fetchone()\n",
        "        print(\"You're connected to database: \", record)\n",
        "        cursor.execute('DROP TABLE IF EXISTS Tweet_data;')\n",
        "        print('Creating table....')\n",
        "        cursor.execute(\"CREATE TABLE Tweet_data (time DATETIME,user_id BIGINT,name VARCHAR(255), tweet VARCHAR(255) ,retweets INTEGER,location VARCHAR(255),created VARCHAR(255),followers INTEGER,is_user_verified VARCHAR(255))\")\n",
        "        print(\"Tweet table is created....\")\n",
        "        for i,row in Data1.iterrows():\n",
        "            sql = \"INSERT INTO u291509283_cargill.Tweet_data VALUES (%s,%s,%s,%s,%s,%s,%s,%s,%s)\"\n",
        "            cursor.execute(sql, tuple(row))\n",
        "            print(\"Record inserted\")\n",
        "            \n",
        "            conn.commit()\n",
        "        \n",
        "except Error as e:\n",
        "    print(\"Error while connecting to MySQL\", e)"
      ],
      "execution_count": null,
      "outputs": []
    }
  ]
}